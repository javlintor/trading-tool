{
 "cells": [
  {
   "cell_type": "code",
   "execution_count": 1,
   "id": "368d1939",
   "metadata": {},
   "outputs": [
    {
     "name": "stdout",
     "output_type": "stream",
     "text": [
      "1502928000000\n"
     ]
    }
   ],
   "source": [
    "# Importing libraries \n",
    "from binance.client import Client\n",
    "import configparser\n",
    "import pandas as pd\n",
    "\n",
    "# Loading keys from config file\n",
    "config = configparser.ConfigParser()\n",
    "config.read_file(open('secret.cfg'))\n",
    "actual_api_key = config.get('BINANCE', 'ACTUAL_API_KEY')\n",
    "actual_secret_key = config.get('BINANCE', 'ACTUAL_SECRET_KEY')\n",
    "\n",
    "client = Client(actual_api_key, actual_secret_key)\n",
    "\n",
    "# Getting earliest timestamp availble (on Binance)\n",
    "earliest_timestamp = client._get_earliest_valid_timestamp('ETHUSDT', '1d')  \n",
    "# Here \"ETHUSDT\" is a trading pair and \"1d\" is time interval\n",
    "print(earliest_timestamp)\n",
    "\n",
    "# Getting historical data (candle data or kline)\n",
    "candle = client.get_historical_klines(\"ETHUSDT\", \"1d\", earliest_timestamp, limit=1000)\n"
   ]
  },
  {
   "cell_type": "code",
   "execution_count": 2,
   "id": "8f2f093c",
   "metadata": {},
   "outputs": [
    {
     "name": "stdout",
     "output_type": "stream",
     "text": [
      "                     open           high            low          close  \\\n",
      "dateTime                                                                 \n",
      "2022-02-12  2927.54000000  2985.98000000  2858.30000000  2918.88000000   \n",
      "2022-02-13  2918.58000000  2954.40000000  2836.70000000  2871.13000000   \n",
      "2022-02-14  2871.14000000  2964.97000000  2829.01000000  2929.75000000   \n",
      "2022-02-15  2929.75000000  3196.19000000  2912.06000000  3183.52000000   \n",
      "2022-02-16  3183.53000000  3186.77000000  3044.03000000  3122.30000000   \n",
      "2022-02-17  3122.31000000  3160.00000000  2851.55000000  2891.87000000   \n",
      "2022-02-18  2891.88000000  2943.97000000  2750.00000000  2779.48000000   \n",
      "2022-02-19  2779.30000000  2830.96000000  2694.45000000  2763.63000000   \n",
      "2022-02-20  2763.63000000  2764.64000000  2576.00000000  2621.99000000   \n",
      "2022-02-21  2621.99000000  2756.60000000  2605.11000000  2740.17000000   \n",
      "\n",
      "                     volume               closeTime     quoteAssetVolume  \\\n",
      "dateTime                                                                   \n",
      "2022-02-12  336250.31310000 2022-02-12 23:59:59.999   981432045.70335400   \n",
      "2022-02-13  242751.35470000 2022-02-13 23:59:59.999   705260941.48303700   \n",
      "2022-02-14  381778.23800000 2022-02-14 23:59:59.999  1107566192.88965800   \n",
      "2022-02-15  448971.75400000 2022-02-15 23:59:59.999  1381094746.21081100   \n",
      "2022-02-16  319997.62440000 2022-02-16 23:59:59.999   999219896.16878700   \n",
      "2022-02-17  488693.26240000 2022-02-17 23:59:59.999  1467352492.88789700   \n",
      "2022-02-18  502977.40690000 2022-02-18 23:59:59.999  1428246802.95318600   \n",
      "2022-02-19  293838.00250000 2022-02-19 23:59:59.999   812399991.55453000   \n",
      "2022-02-20  386384.90400000 2022-02-20 23:59:59.999  1023095361.85772400   \n",
      "2022-02-21  137571.95810000 2022-02-21 23:59:59.999   372380670.86802600   \n",
      "\n",
      "            numberOfTrades  takerBuyBaseVol    takerBuyQuoteVol ignore  \n",
      "dateTime                                                                \n",
      "2022-02-12          608416  165039.91860000  481542585.22478100      0  \n",
      "2022-02-13          444540  120559.55780000  350481622.86180700      0  \n",
      "2022-02-14          607853  194221.87810000  563663360.65153900      0  \n",
      "2022-02-15          795924  237944.87240000  732387823.95689200      0  \n",
      "2022-02-16          633447  155323.14930000  485323462.45579500      0  \n",
      "2022-02-17          840552  233828.04280000  702011907.69001700      0  \n",
      "2022-02-18          742459  249635.46510000  708728873.88638900      0  \n",
      "2022-02-19          474447  141892.30220000  392252672.87432300      0  \n",
      "2022-02-20          615990  179982.38540000  476410884.46124000      0  \n",
      "2022-02-21          217126   72554.01310000  196388260.93172600      0  \n"
     ]
    }
   ],
   "source": [
    "eth_df = pd.DataFrame(candle, columns=['dateTime', 'open', 'high', 'low', 'close', 'volume', 'closeTime', 'quoteAssetVolume', 'numberOfTrades', 'takerBuyBaseVol', 'takerBuyQuoteVol', 'ignore'])\n",
    "eth_df.dateTime = pd.to_datetime(eth_df.dateTime, unit='ms')\n",
    "eth_df.closeTime = pd.to_datetime(eth_df.closeTime, unit='ms')\n",
    "eth_df.set_index('dateTime', inplace=True)\n",
    "eth_df.to_csv('eth_candle.csv')\n",
    "\n",
    "print(eth_df.tail(10))"
   ]
  },
  {
   "cell_type": "code",
   "execution_count": 12,
   "id": "7b3827ac",
   "metadata": {},
   "outputs": [
    {
     "data": {
      "text/plain": [
       "'ethusdt@ticker'"
      ]
     },
     "execution_count": 12,
     "metadata": {},
     "output_type": "execute_result"
    },
    {
     "name": "stdout",
     "output_type": "stream",
     "text": [
      "message type: 24hrTicker\n",
      "close price: 2738.95000000\n",
      "best ask price: 2738.95000000\n",
      "best bid price: 2738.94000000\n",
      "---------------------------\n",
      "message type: 24hrTicker\n",
      "close price: 2738.94000000\n",
      "best ask price: 2738.95000000\n",
      "best bid price: 2738.94000000\n",
      "---------------------------\n",
      "message type: 24hrTicker\n",
      "close price: 2739.03000000\n",
      "best ask price: 2739.03000000\n",
      "best bid price: 2739.02000000\n",
      "---------------------------\n",
      "message type: 24hrTicker\n",
      "close price: 2739.33000000\n",
      "best ask price: 2739.34000000\n",
      "best bid price: 2739.33000000\n",
      "---------------------------\n",
      "message type: 24hrTicker\n",
      "close price: 2739.52000000\n",
      "best ask price: 2739.53000000\n",
      "best bid price: 2739.52000000\n",
      "---------------------------\n",
      "message type: 24hrTicker\n",
      "close price: 2739.53000000\n",
      "best ask price: 2739.53000000\n",
      "best bid price: 2739.52000000\n",
      "---------------------------\n",
      "message type: 24hrTicker\n",
      "close price: 2738.96000000\n",
      "best ask price: 2738.96000000\n",
      "best bid price: 2738.95000000\n",
      "---------------------------\n",
      "message type: 24hrTicker\n",
      "close price: 2738.01000000\n",
      "best ask price: 2738.02000000\n",
      "best bid price: 2738.01000000\n",
      "---------------------------\n",
      "message type: 24hrTicker\n",
      "close price: 2738.31000000\n",
      "best ask price: 2738.14000000\n",
      "best bid price: 2738.13000000\n",
      "---------------------------\n",
      "message type: 24hrTicker\n",
      "close price: 2738.14000000\n",
      "best ask price: 2738.14000000\n",
      "best bid price: 2738.13000000\n",
      "---------------------------\n",
      "message type: 24hrTicker\n",
      "close price: 2738.13000000\n",
      "best ask price: 2738.14000000\n",
      "best bid price: 2738.13000000\n",
      "---------------------------\n"
     ]
    }
   ],
   "source": [
    "# Importing libraries \n",
    "from binance import ThreadedWebsocketManager\n",
    "from twisted.internet import reactor \n",
    "\n",
    "\n",
    "client = Client(actual_api_key, actual_secret_key)\n",
    "\n",
    "\n",
    "def streaming_data_process(msg):\n",
    "    \"\"\"\n",
    "    Function to process the received messages\n",
    "    param msg: input message\n",
    "    \"\"\"\n",
    "    print(f\"message type: {msg['e']}\")\n",
    "    print(f\"close price: {msg['c']}\")\n",
    "    print(f\"best ask price: {msg['a']}\")\n",
    "    print(f\"best bid price: {msg['b']}\")\n",
    "    print(\"---------------------------\")\n",
    "    \n",
    "# Starting the WebSocket\n",
    "twm = ThreadedWebsocketManager(api_key=actual_api_key, api_secret=actual_secret_key)\n",
    "twm.start()\n",
    "# conn_key = bm.start_symbol_ticker_socket(symbol='ETHUSDT', callback=streaming_data_process)\n",
    "twm.start_symbol_ticker_socket(callback=streaming_data_process, symbol='ETHUSDT')"
   ]
  },
  {
   "cell_type": "code",
   "execution_count": null,
   "id": "10bb1d64",
   "metadata": {},
   "outputs": [],
   "source": [
    "# stop websocket\n",
    "\n",
    "\n",
    "# Stopping websocket\n",
    "bm.stop_socket(conn_key)\n",
    "\n",
    "# Websockets utilise a reactor loop from the Twisted library. Using the stop method above \n",
    "# will stop the websocket connection but it won’t stop the reactor loop so your code may \n",
    "# not exit when you expect.\n",
    "\n",
    "# When you need to exit\n",
    "reactor.stop()"
   ]
  },
  {
   "cell_type": "code",
   "execution_count": null,
   "id": "6513ee6a",
   "metadata": {},
   "outputs": [],
   "source": []
  }
 ],
 "metadata": {
  "kernelspec": {
   "display_name": "Python 3 (ipykernel)",
   "language": "python",
   "name": "python3"
  },
  "language_info": {
   "codemirror_mode": {
    "name": "ipython",
    "version": 3
   },
   "file_extension": ".py",
   "mimetype": "text/x-python",
   "name": "python",
   "nbconvert_exporter": "python",
   "pygments_lexer": "ipython3",
   "version": "3.9.1"
  }
 },
 "nbformat": 4,
 "nbformat_minor": 5
}
