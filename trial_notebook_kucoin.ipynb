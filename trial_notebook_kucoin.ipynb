{
 "cells": [
  {
   "cell_type": "code",
   "execution_count": null,
   "id": "752edd08",
   "metadata": {},
   "outputs": [],
   "source": [
    "import configparser \n",
    "\n",
    "config = configparser.ConfigParser()\n",
    "config.read(\"secret.cfg\")\n",
    "api_key = config[\"KUCOIN\"][\"API_KEY\"]\n",
    "api_secret = config[\"KUCOIN\"][\"API_SECRET\"]\n",
    "api_passphrase = config[\"KUCOIN\"][\"API_SECRET\"]"
   ]
  },
  {
   "cell_type": "code",
   "execution_count": null,
   "id": "6ca36dee",
   "metadata": {},
   "outputs": [],
   "source": [
    "from kucoin.client import Client\n",
    "\n",
    "client = Client(api_key, api_secret, ap"
   ]
  },
  {
   "cell_type": "code",
   "execution_count": null,
   "id": "9a36cd45",
   "metadata": {},
   "outputs": [],
   "source": [
    "client.get_kline_data_tv()"
   ]
  },
  {
   "cell_type": "code",
   "execution_count": 1,
   "id": "9a94d0cd",
   "metadata": {},
   "outputs": [
    {
     "ename": "NameError",
     "evalue": "name 'binance' is not defined",
     "output_type": "error",
     "traceback": [
      "\u001b[0;31m---------------------------------------------------------------------------\u001b[0m",
      "\u001b[0;31mNameError\u001b[0m                                 Traceback (most recent call last)",
      "Input \u001b[0;32mIn [1]\u001b[0m, in \u001b[0;36m<module>\u001b[0;34m\u001b[0m\n\u001b[0;32m----> 1\u001b[0m \u001b[43mbinance\u001b[49m\u001b[38;5;241m.\u001b[39m__version__\n",
      "\u001b[0;31mNameError\u001b[0m: name 'binance' is not defined"
     ]
    }
   ],
   "source": [
    "binance.__version__"
   ]
  },
  {
   "cell_type": "code",
   "execution_count": 2,
   "id": "08faa554",
   "metadata": {},
   "outputs": [
    {
     "name": "stdout",
     "output_type": "stream",
     "text": [
      "Collecting python-binance\n",
      "  Downloading python_binance-1.0.15-py2.py3-none-any.whl (63 kB)\n",
      "\u001b[2K     \u001b[90m━━━━━━━━━━━━━━━━━━━━━━━━━━━━━━━━━━━━━━━\u001b[0m \u001b[32m63.9/63.9 KB\u001b[0m \u001b[31m945.3 kB/s\u001b[0m eta \u001b[36m0:00:00\u001b[0m \u001b[36m0:00:01\u001b[0m\n",
      "\u001b[?25hCollecting aiohttp\n",
      "  Downloading aiohttp-3.8.1-cp39-cp39-macosx_10_9_x86_64.whl (574 kB)\n",
      "\u001b[2K     \u001b[90m━━━━━━━━━━━━━━━━━━━━━━━━━━━━━━━━━━━━━━━\u001b[0m \u001b[32m575.0/575.0 KB\u001b[0m \u001b[31m7.6 MB/s\u001b[0m eta \u001b[36m0:00:00\u001b[0ma \u001b[36m0:00:01\u001b[0m\n",
      "\u001b[?25hCollecting websockets==9.1\n",
      "  Downloading websockets-9.1-cp39-cp39-macosx_10_9_x86_64.whl (88 kB)\n",
      "\u001b[2K     \u001b[90m━━━━━━━━━━━━━━━━━━━━━━━━━━━━━━━━━━━━━━━━\u001b[0m \u001b[32m88.7/88.7 KB\u001b[0m \u001b[31m3.1 MB/s\u001b[0m eta \u001b[36m0:00:00\u001b[0m\n",
      "\u001b[?25hCollecting ujson\n",
      "  Downloading ujson-5.1.0-cp39-cp39-macosx_10_9_x86_64.whl (46 kB)\n",
      "\u001b[2K     \u001b[90m━━━━━━━━━━━━━━━━━━━━━━━━━━━━━━━━━━━━━━━━\u001b[0m \u001b[32m46.3/46.3 KB\u001b[0m \u001b[31m1.2 MB/s\u001b[0m eta \u001b[36m0:00:00\u001b[0m\n",
      "\u001b[?25hRequirement already satisfied: requests in ./my_env/lib/python3.9/site-packages (from python-binance) (2.27.1)\n",
      "Requirement already satisfied: dateparser in ./my_env/lib/python3.9/site-packages (from python-binance) (1.1.0)\n",
      "Requirement already satisfied: six in ./my_env/lib/python3.9/site-packages (from python-binance) (1.16.0)\n",
      "Requirement already satisfied: attrs>=17.3.0 in ./my_env/lib/python3.9/site-packages (from aiohttp->python-binance) (21.4.0)\n",
      "Requirement already satisfied: charset-normalizer<3.0,>=2.0 in ./my_env/lib/python3.9/site-packages (from aiohttp->python-binance) (2.0.12)\n",
      "Collecting async-timeout<5.0,>=4.0.0a3\n",
      "  Downloading async_timeout-4.0.2-py3-none-any.whl (5.8 kB)\n",
      "Collecting yarl<2.0,>=1.0\n",
      "  Downloading yarl-1.7.2-cp39-cp39-macosx_10_9_x86_64.whl (121 kB)\n",
      "\u001b[2K     \u001b[90m━━━━━━━━━━━━━━━━━━━━━━━━━━━━━━━━━━━━━━━\u001b[0m \u001b[32m121.8/121.8 KB\u001b[0m \u001b[31m4.2 MB/s\u001b[0m eta \u001b[36m0:00:00\u001b[0m\n",
      "\u001b[?25hCollecting frozenlist>=1.1.1\n",
      "  Downloading frozenlist-1.3.0-cp39-cp39-macosx_10_9_x86_64.whl (36 kB)\n",
      "Collecting aiosignal>=1.1.2\n",
      "  Downloading aiosignal-1.2.0-py3-none-any.whl (8.2 kB)\n",
      "Collecting multidict<7.0,>=4.5\n",
      "  Downloading multidict-6.0.2-cp39-cp39-macosx_10_9_x86_64.whl (28 kB)\n",
      "Requirement already satisfied: pytz in ./my_env/lib/python3.9/site-packages (from dateparser->python-binance) (2021.3)\n",
      "Requirement already satisfied: tzlocal in ./my_env/lib/python3.9/site-packages (from dateparser->python-binance) (4.1)\n",
      "Requirement already satisfied: regex!=2019.02.19,!=2021.8.27 in ./my_env/lib/python3.9/site-packages (from dateparser->python-binance) (2022.1.18)\n",
      "Requirement already satisfied: python-dateutil in ./my_env/lib/python3.9/site-packages (from dateparser->python-binance) (2.8.2)\n",
      "Requirement already satisfied: urllib3<1.27,>=1.21.1 in ./my_env/lib/python3.9/site-packages (from requests->python-binance) (1.26.8)\n",
      "Requirement already satisfied: idna<4,>=2.5 in ./my_env/lib/python3.9/site-packages (from requests->python-binance) (3.3)\n",
      "Requirement already satisfied: certifi>=2017.4.17 in ./my_env/lib/python3.9/site-packages (from requests->python-binance) (2021.10.8)\n",
      "Requirement already satisfied: pytz-deprecation-shim in ./my_env/lib/python3.9/site-packages (from tzlocal->dateparser->python-binance) (0.1.0.post0)\n",
      "Requirement already satisfied: tzdata in ./my_env/lib/python3.9/site-packages (from pytz-deprecation-shim->tzlocal->dateparser->python-binance) (2021.5)\n",
      "Installing collected packages: websockets, ujson, multidict, frozenlist, async-timeout, yarl, aiosignal, aiohttp, python-binance\n",
      "  Attempting uninstall: websockets\n",
      "    Found existing installation: websockets 10.1\n",
      "    Uninstalling websockets-10.1:\n",
      "      Successfully uninstalled websockets-10.1\n",
      "Successfully installed aiohttp-3.8.1 aiosignal-1.2.0 async-timeout-4.0.2 frozenlist-1.3.0 multidict-6.0.2 python-binance-1.0.15 ujson-5.1.0 websockets-9.1 yarl-1.7.2\n"
     ]
    }
   ],
   "source": [
    "! pip install python-binance"
   ]
  },
  {
   "cell_type": "code",
   "execution_count": null,
   "id": "da5fbd3f",
   "metadata": {},
   "outputs": [],
   "source": []
  }
 ],
 "metadata": {
  "kernelspec": {
   "display_name": "Python 3 (ipykernel)",
   "language": "python",
   "name": "python3"
  },
  "language_info": {
   "codemirror_mode": {
    "name": "ipython",
    "version": 3
   },
   "file_extension": ".py",
   "mimetype": "text/x-python",
   "name": "python",
   "nbconvert_exporter": "python",
   "pygments_lexer": "ipython3",
   "version": "3.9.1"
  }
 },
 "nbformat": 4,
 "nbformat_minor": 5
}
